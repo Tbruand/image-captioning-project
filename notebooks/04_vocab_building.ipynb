{
 "cells": [
  {
   "cell_type": "markdown",
   "id": "c7c79222-8a8b-41b8-858a-e01597e22a67",
   "metadata": {},
   "source": [
    "# 🧱 Plan du notebook `03_vocab_building.ipynb`"
   ]
  },
  {
   "cell_type": "markdown",
   "id": "03e42898-53a8-4699-ae6e-d5af4be9333a",
   "metadata": {},
   "source": [
    "| Étape | Objectif                                             |\n",
    "| ----- | ---------------------------------------------------- |\n",
    "| 1️⃣   | Chargement et visualisation des captions             |\n",
    "| 2️⃣   | Nettoyage des captions (`clean_caption`)             |\n",
    "| 3️⃣   | Tokenisation + stats globales                        |\n",
    "| 4️⃣   | Construction du vocabulaire avec `min_word_freq`     |\n",
    "| 5️⃣   | Ajout des tokens spéciaux `<pad>`, `<start>`, ...    |\n",
    "| 6️⃣   | Création d’un objet `Tokenizer` (avec encode/decode) |\n",
    "| 7️⃣   | Sauvegarde du tokenizer                              |\n",
    "| 8️⃣   | (Optionnel) Visualisation / histogramme fréquence    |\n"
   ]
  },
  {
   "cell_type": "markdown",
   "id": "0ab62da8-f600-480a-b87a-c27b3b9fb4db",
   "metadata": {},
   "source": [
    "## 🔁 Étape 1 : Chargement des captions"
   ]
  },
  {
   "cell_type": "code",
   "execution_count": 1,
   "id": "1ac45fb7-24af-4b39-a700-53e39edd0b6d",
   "metadata": {},
   "outputs": [
    {
     "name": "stdout",
     "output_type": "stream",
     "text": [
      "Nombre total de lignes : 40460\n",
      "Exemple :\n",
      "1000268201_693b08cb0e.jpg#0\tA child in a pink dress is climbing up a set of stairs in an entry way .\n",
      "\n"
     ]
    }
   ],
   "source": [
    "from pathlib import Path\n",
    "\n",
    "captions_file = Path(\"../data/raw/Flickr8k_text/Flickr8k.token.txt\")\n",
    "\n",
    "with open(captions_file, \"r\") as f:\n",
    "    lines = f.readlines()\n",
    "\n",
    "print(f\"Nombre total de lignes : {len(lines)}\")\n",
    "print(\"Exemple :\")\n",
    "print(lines[0])\n"
   ]
  },
  {
   "cell_type": "markdown",
   "id": "b5b4b033-87b8-4437-abfe-5cb26aaff86b",
   "metadata": {},
   "source": [
    "🔎 Explication :\n",
    "\n",
    "- Le fichier contient toutes les captions sous la forme :\n",
    "`1000268201_693b08cb0e.jpg#0\tA child in a pink dress is climbing up a set of stairs in an entry way .`\n",
    "\n",
    "- On va ensuite regrouper toutes les captions par image"
   ]
  },
  {
   "cell_type": "markdown",
   "id": "7dc88c18-4b06-4d76-a5fd-4011586a531a",
   "metadata": {},
   "source": [
    "## 🔁 Étape 1 (suite) : parser et regrouper les captions"
   ]
  },
  {
   "cell_type": "code",
   "execution_count": 2,
   "id": "bcedea46-42c5-4632-a713-da60277d71ed",
   "metadata": {},
   "outputs": [
    {
     "name": "stdout",
     "output_type": "stream",
     "text": [
      "📸 Nombre d'images avec légendes : 8092\n",
      "\n",
      "🖼️ Exemple image_id : 1000268201_693b08cb0e\n",
      "  ➤ Caption 1: A child in a pink dress is climbing up a set of stairs in an entry way .\n",
      "  ➤ Caption 2: A girl going into a wooden building .\n",
      "  ➤ Caption 3: A little girl climbing into a wooden playhouse .\n",
      "  ➤ Caption 4: A little girl climbing the stairs to her playhouse .\n",
      "  ➤ Caption 5: A little girl in a pink dress going into a wooden cabin .\n"
     ]
    }
   ],
   "source": [
    "from collections import defaultdict\n",
    "\n",
    "# 🔄 Dictionnaire image_id -> liste de captions\n",
    "captions_dict = defaultdict(list)\n",
    "\n",
    "for line in lines:\n",
    "    try:\n",
    "        image_name, caption = line.strip().split('\\t')\n",
    "        image_id = image_name.split('#')[0].split('.')[0]  # enlève le .jpg\n",
    "        captions_dict[image_id].append(caption)\n",
    "    except ValueError:\n",
    "        print(f\"Ligne ignorée : {line.strip()}\")\n",
    "\n",
    "print(f\"📸 Nombre d'images avec légendes : {len(captions_dict)}\")\n",
    "example_id = next(iter(captions_dict))\n",
    "print(f\"\\n🖼️ Exemple image_id : {example_id}\")\n",
    "for i, cap in enumerate(captions_dict[example_id]):\n",
    "    print(f\"  ➤ Caption {i+1}: {cap}\")\n"
   ]
  },
  {
   "cell_type": "markdown",
   "id": "7326342a-fa84-4a83-a70e-f7c9aaa058c1",
   "metadata": {},
   "source": [
    "### ✅ Explication ligne par ligne :\n",
    "\n",
    "| Ligne               | Fonction                                                     |\n",
    "| ------------------- | ------------------------------------------------------------ |\n",
    "| `defaultdict(list)` | crée un dict où chaque valeur par défaut est une liste       |\n",
    "| `split('\\t')`       | sépare l’image et la légende                                 |\n",
    "| `split('#')[0]`     | retire le numéro de la légende (#0, #1...)                   |\n",
    "| `split('.')[0]`     | retire l’extension `.jpg` pour ne garder que l’ID            |\n",
    "| `.append(caption)`  | ajoute chaque caption dans la liste correspondante à l’image |\n"
   ]
  },
  {
   "cell_type": "markdown",
   "id": "caff7007-049b-44be-ba13-66fe020db7b1",
   "metadata": {},
   "source": [
    "## ✨ Étape 2 : Nettoyage des captions (clean_caption)"
   ]
  },
  {
   "cell_type": "markdown",
   "id": "60ed3aa4-5b63-4dde-aa0c-ca474b84a218",
   "metadata": {},
   "source": [
    "### ✅ Objectifs :\n",
    "- Tout passer en minuscule\n",
    "\n",
    "- Supprimer ponctuation, caractères spéciaux, chiffres\n",
    "\n",
    "- Garder uniquement les mots\n",
    "\n",
    "- Éventuellement supprimer les mots très courts"
   ]
  },
  {
   "cell_type": "markdown",
   "id": "bfe15032-9d56-433b-9932-6449c74f5db7",
   "metadata": {},
   "source": [
    "#### 📦 Fonction clean_caption()"
   ]
  },
  {
   "cell_type": "code",
   "execution_count": 3,
   "id": "c396f745-97ef-4183-ba08-966f594eaeef",
   "metadata": {},
   "outputs": [],
   "source": [
    "import re\n",
    "\n",
    "def clean_caption(caption):\n",
    "    caption = caption.lower()\n",
    "    caption = re.sub(r\"[^a-zA-Z0-9\\s']\", \"\", caption)  # garde les apostrophes\n",
    "    caption = re.sub(r\"\\s+\", \" \", caption)\n",
    "    return caption.strip()\n"
   ]
  },
  {
   "cell_type": "markdown",
   "id": "be0996bb-024e-4866-a27a-60d87d27dc6c",
   "metadata": {},
   "source": [
    "#### 🧪 Application à toutes les captions"
   ]
  },
  {
   "cell_type": "code",
   "execution_count": 4,
   "id": "5651372c-20d5-4e73-9658-29558baa85fe",
   "metadata": {},
   "outputs": [
    {
     "name": "stdout",
     "output_type": "stream",
     "text": [
      "\n",
      "🧼 Captions nettoyées pour 1000268201_693b08cb0e :\n",
      "  ➤ a child in a pink dress is climbing up a set of stairs in an entry way\n",
      "  ➤ a girl going into a wooden building\n",
      "  ➤ a little girl climbing into a wooden playhouse\n",
      "  ➤ a little girl climbing the stairs to her playhouse\n",
      "  ➤ a little girl in a pink dress going into a wooden cabin\n"
     ]
    }
   ],
   "source": [
    "from collections import Counter\n",
    "\n",
    "cleaned_captions_dict = {}\n",
    "all_tokens = []\n",
    "\n",
    "for img_id, captions in captions_dict.items():\n",
    "    cleaned = []\n",
    "    for c in captions:\n",
    "        c_clean = clean_caption(c)\n",
    "        tokens = c_clean.split()\n",
    "        all_tokens.extend(tokens)\n",
    "        cleaned.append(c_clean)\n",
    "    cleaned_captions_dict[img_id] = cleaned\n",
    "\n",
    "# 🔍 Exemple vérification\n",
    "example_id = next(iter(cleaned_captions_dict))\n",
    "print(f\"\\n🧼 Captions nettoyées pour {example_id} :\")\n",
    "for c in cleaned_captions_dict[example_id]:\n",
    "    print(\"  ➤\", c)\n",
    "\n",
    "# 🧠 Comptage des tokens pour vocabulaire\n",
    "word_freq = Counter(all_tokens)\n"
   ]
  },
  {
   "cell_type": "markdown",
   "id": "a03e3dc9-a154-46c0-bb04-9e41d1a1e46e",
   "metadata": {},
   "source": [
    "### 🔎 Explication rapide de clean_caption() :\n",
    "| Étape        | Code                           | Résultat                        |\n",
    "| ------------ | ------------------------------ | ------------------------------- |\n",
    "| Minuscule    | `caption.lower()`              | \"A Man Walking...\" → \"a man...\" |\n",
    "| Nettoyage    | `re.sub(r\"[^a-z\\s]\", \"\", ...)` | supprime tout sauf lettres/esp. |\n",
    "| Espaces trim | `re.sub(...).strip()`          | évite les doubles espaces       |\n"
   ]
  },
  {
   "cell_type": "markdown",
   "id": "a514a3f1-2efb-4dcf-bef7-2804ef641ee0",
   "metadata": {},
   "source": [
    "## 🔢 Étape 3 : Tokenisation + Statistiques globales"
   ]
  },
  {
   "cell_type": "markdown",
   "id": "1e0b6d51-64bf-4801-bc5c-2e6bc682f4b8",
   "metadata": {},
   "source": [
    "### ✅ Objectifs :\n",
    "- Découper toutes les captions en mots (split)\n",
    "\n",
    "- Compter les fréquences avec Counter\n",
    "\n",
    "- Visualiser les stats : nb total de mots, mots uniques, etc."
   ]
  },
  {
   "cell_type": "code",
   "execution_count": 5,
   "id": "aff3ee8e-dd5b-4363-8e11-285366b637af",
   "metadata": {},
   "outputs": [
    {
     "name": "stdout",
     "output_type": "stream",
     "text": [
      "📈 Nombre total de mots (tokens) : 436568\n",
      "🧠 Nombre de mots uniques (vocabulaire brut) : 8832\n",
      "\n",
      "🔝 Mots les plus fréquents :\n",
      "  a: 62989\n",
      "  in: 18975\n",
      "  the: 18419\n",
      "  on: 10744\n",
      "  is: 9345\n",
      "  and: 8852\n",
      "  dog: 8136\n",
      "  with: 7765\n",
      "  man: 7266\n",
      "  of: 6713\n"
     ]
    }
   ],
   "source": [
    "from collections import Counter\n",
    "\n",
    "# 🔁 Construction d’une seule liste contenant tous les mots nettoyés\n",
    "all_tokens = []\n",
    "\n",
    "for captions in cleaned_captions_dict.values():\n",
    "    for caption in captions:\n",
    "        cleaned = clean_caption(caption)  # 🧼 Nettoyage avant tokenisation\n",
    "        tokens = cleaned.split()\n",
    "        all_tokens.extend(tokens)\n",
    "\n",
    "# 📊 Statistiques\n",
    "counter = Counter(all_tokens)\n",
    "total_tokens = len(all_tokens)\n",
    "unique_tokens = len(counter)\n",
    "\n",
    "print(f\"📈 Nombre total de mots (tokens) : {total_tokens}\")\n",
    "print(f\"🧠 Nombre de mots uniques (vocabulaire brut) : {unique_tokens}\")\n",
    "\n",
    "print(\"\\n🔝 Mots les plus fréquents :\")\n",
    "for word, freq in counter.most_common(10):\n",
    "    print(f\"  {word}: {freq}\")\n"
   ]
  },
  {
   "cell_type": "markdown",
   "id": "94aa882e-95a3-420c-9c7f-85064e46c6e6",
   "metadata": {},
   "source": [
    "#### 🔍 Explication :\n",
    "| Ligne                     | Rôle                                       |\n",
    "| ------------------------- | ------------------------------------------ |\n",
    "| `caption.split()`         | Tokenise simplement en séparant par espace |\n",
    "| `Counter(all_tokens)`     | Crée un dictionnaire mot → fréquence       |\n",
    "| `counter.most_common(10)` | Retourne les 10 mots les plus fréquents    |\n"
   ]
  },
  {
   "cell_type": "markdown",
   "id": "acc1e207-fd3e-43e5-ae7a-0a08d8680cf1",
   "metadata": {},
   "source": [
    "## 🔢 Étape 3 (suite) : Histogramme des mots les plus fréquents"
   ]
  },
  {
   "cell_type": "markdown",
   "id": "a238d0f3-b154-407b-932c-a8770a089393",
   "metadata": {},
   "source": [
    "### ✅ Objectif :\n",
    "Afficher un graphique avec les 20 mots les plus fréquents dans tes captions."
   ]
  },
  {
   "cell_type": "code",
   "execution_count": 6,
   "id": "74d7d638-9e5a-4f51-9603-1dfbbd4cb888",
   "metadata": {},
   "outputs": [
    {
     "data": {
      "image/png": "[encoded data removed]",
      "text/plain": [
       "<Figure size 1000x500 with 1 Axes>"
      ]
     },
     "metadata": {},
     "output_type": "display_data"
    }
   ],
   "source": [
    "import matplotlib.pyplot as plt\n",
    "\n",
    "# 📉 Top N mots à afficher\n",
    "top_n = 20\n",
    "most_common_words = counter.most_common(top_n)\n",
    "words = [w for w, _ in most_common_words]\n",
    "freqs = [f for _, f in most_common_words]\n",
    "\n",
    "plt.figure(figsize=(10, 5))\n",
    "plt.bar(words, freqs, color='skyblue')\n",
    "plt.xticks(rotation=45)\n",
    "plt.title(f\"Top {top_n} mots les plus fréquents dans les captions\")\n",
    "plt.xlabel(\"Mots\")\n",
    "plt.ylabel(\"Fréquence\")\n",
    "plt.tight_layout()\n",
    "plt.show()\n"
   ]
  },
  {
   "cell_type": "markdown",
   "id": "99c3aca5-727d-4341-b12d-75b2f04fd09f",
   "metadata": {},
   "source": [
    "#### 🔍 Ce que tu verras :\n",
    "- Une barre pour chaque mot (souvent des stopwords comme a, the, on, man, with, etc.).\n",
    "- Cela t’aidera à choisir un bon seuil min_word_freq pour éviter les mots trop rares."
   ]
  },
  {
   "cell_type": "markdown",
   "id": "ab27d88c-2384-4bfc-b53e-9ddffd281fed",
   "metadata": {},
   "source": [
    "## 🧱 Étape 4 : Construction du vocabulaire avec seuil `min_word_freq`"
   ]
  },
  {
   "cell_type": "markdown",
   "id": "29f68154-7f6d-4260-b3a5-d8df3da9f1e8",
   "metadata": {},
   "source": [
    "### ✅ Objectif :\n",
    "- Ne conserver que les mots fréquents (par ex. présents ≥ 5 fois)\n",
    "\n",
    "- Ajouter les tokens spéciaux (`<pad>`, `<start>`, `<end>`, `<unk>`)\n",
    "\n",
    "- Générer `word2idx` et `idx2word`"
   ]
  },
  {
   "cell_type": "code",
   "execution_count": 7,
   "id": "5961f2a1-5029-4d28-b3f5-59fa8b5cd5aa",
   "metadata": {},
   "outputs": [
    {
     "name": "stdout",
     "output_type": "stream",
     "text": [
      "⚙️ Seuil de fréquence minimum : 3\n",
      "🧠 Taille du vocabulaire (hors tokens spéciaux) : 4093\n",
      "🔢 Vocab final avec tokens spéciaux : 4097 tokens\n",
      "📝 Exemple de mapping :\n",
      "  0: <pad>\n",
      "  1: <start>\n",
      "  2: <end>\n",
      "  3: <unk>\n",
      "  4: a\n",
      "  5: child\n",
      "  6: in\n",
      "  7: pink\n",
      "  8: dress\n",
      "  9: is\n"
     ]
    }
   ],
   "source": [
    "min_word_freq = 3  # 🔧 tu peux tester 3, 5, 10...\n",
    "print(f\"⚙️ Seuil de fréquence minimum : {min_word_freq}\")\n",
    "\n",
    "# 🔁 Mots conservés\n",
    "words = [word for word, freq in counter.items() if freq >= min_word_freq]\n",
    "print(f\"🧠 Taille du vocabulaire (hors tokens spéciaux) : {len(words)}\")\n",
    "\n",
    "# 🧷 Tokens spéciaux\n",
    "special_tokens = [\"<pad>\", \"<start>\", \"<end>\", \"<unk>\"]\n",
    "word2idx = {token: idx for idx, token in enumerate(special_tokens, start=0)}\n",
    "\n",
    "# 🧱 Ajout du vocab filtré\n",
    "for i, word in enumerate(words, start=len(word2idx)):\n",
    "    word2idx[word] = i\n",
    "\n",
    "# 🔁 idx2word pour décodage\n",
    "idx2word = {idx: word for word, idx in word2idx.items()}\n",
    "\n",
    "print(f\"🔢 Vocab final avec tokens spéciaux : {len(word2idx)} tokens\")\n",
    "print(f\"📝 Exemple de mapping :\")\n",
    "for i in range(10):\n",
    "    print(f\"  {i}: {idx2word[i]}\")\n"
   ]
  },
  {
   "cell_type": "markdown",
   "id": "534b5c50-d478-498e-9a1d-3ff5c86ae290",
   "metadata": {},
   "source": [
    "## 📊 Étape 4 (bis) – Code pour tracer la courbe de couverture cumulative"
   ]
  },
  {
   "cell_type": "code",
   "execution_count": 8,
   "id": "80d409df-3833-4552-bf86-30b630d3ab1c",
   "metadata": {},
   "outputs": [
    {
     "data": {
      "image/png": "[encoded data removed]",
      "text/plain": [
       "<Figure size 1000x500 with 1 Axes>"
      ]
     },
     "metadata": {},
     "output_type": "display_data"
    }
   ],
   "source": [
    "import numpy as np\n",
    "import matplotlib.pyplot as plt\n",
    "from collections import Counter\n",
    "\n",
    "# 🧱 Aplatir toutes les légendes nettoyées en une seule liste\n",
    "cleaned_captions = []\n",
    "for captions in cleaned_captions_dict.values():\n",
    "    cleaned_captions.extend(captions)\n",
    "\n",
    "# 🔁 Comptage de tous les mots dans toutes les captions\n",
    "word_freq = Counter()\n",
    "for caption in cleaned_captions:\n",
    "    word_freq.update(caption.split())\n",
    "\n",
    "# 🔢 Récupération des fréquences triées (du + fréquent au + rare)\n",
    "frequencies = np.array(sorted(word_freq.values(), reverse=True))\n",
    "total_occurrences = frequencies.sum()\n",
    "\n",
    "# 📈 Calcul de la couverture cumulative\n",
    "cumulative_coverage = np.cumsum(frequencies) / total_occurrences\n",
    "\n",
    "# 🧪 Tracé\n",
    "plt.figure(figsize=(10, 5))\n",
    "plt.plot(cumulative_coverage, label=\"Couverture cumulative\")\n",
    "plt.axhline(0.9, color='r', linestyle='--', label=\"Seuil 90%\")\n",
    "plt.xlabel(\"Taille du vocabulaire\")\n",
    "plt.ylabel(\"Couverture\")\n",
    "plt.title(\"Courbe cumulative de couverture du vocabulaire\")\n",
    "plt.legend()\n",
    "plt.grid()\n",
    "plt.show()"
   ]
  },
  {
   "cell_type": "markdown",
   "id": "a57d418c-be68-4081-b3ed-77897a7cdd97",
   "metadata": {},
   "source": [
    "## 🧩 Étape 5 : Création de la classe `Tokenizer"
   ]
  },
  {
   "cell_type": "markdown",
   "id": "11d10c36-2a05-40bf-bc08-8c55a420eeb7",
   "metadata": {},
   "source": [
    "- Centraliser le vocabulaire (`word2idx`, `idx2word`)\n",
    "\n",
    "- Fournir une interface pratique pour encoder/décoder des captions\n",
    "\n",
    "- Gérer automatiquement les mots inconnus avec `<unk>`"
   ]
  },
  {
   "cell_type": "code",
   "execution_count": 9,
   "id": "972cce80-8ed6-4161-8dea-e70722874c1f",
   "metadata": {},
   "outputs": [],
   "source": [
    "class Tokenizer:\n",
    "    def __init__(self, word2idx):\n",
    "        self.word2idx = word2idx\n",
    "        self.idx2word = {idx: word for word, idx in word2idx.items()}\n",
    "\n",
    "        self.pad_token = \"<pad>\"\n",
    "        self.start_token = \"<start>\"\n",
    "        self.end_token = \"<end>\"\n",
    "        self.unk_token = \"<unk>\"\n",
    "\n",
    "        self.pad_token_id = self.word2idx[self.pad_token]\n",
    "        self.start_token_id = self.word2idx[self.start_token]\n",
    "        self.end_token_id = self.word2idx[self.end_token]\n",
    "        self.unk_token_id = self.word2idx[self.unk_token]\n",
    "\n",
    "        self.vocab_size = len(self.word2idx)\n",
    "\n",
    "    def encode(self, caption, add_special_tokens=True):\n",
    "        tokens = caption.strip().split()\n",
    "        token_ids = [self.word2idx.get(token, self.unk_token_id) for token in tokens]\n",
    "\n",
    "        if add_special_tokens:\n",
    "            return [self.start_token_id] + token_ids + [self.end_token_id]\n",
    "        else:\n",
    "            return token_ids\n",
    "\n",
    "    def decode(self, token_ids, remove_special_tokens=True):\n",
    "        words = [self.idx2word.get(idx, self.unk_token) for idx in token_ids]\n",
    "        if remove_special_tokens:\n",
    "            words = [w for w in words if w not in [self.pad_token, self.start_token, self.end_token]]\n",
    "        return \" \".join(words)"
   ]
  },
  {
   "cell_type": "markdown",
   "id": "9653c6c0-f3dd-40bc-928b-7540c73df953",
   "metadata": {},
   "source": [
    "#### 🔢 1. Générer word2idx limité à 2000 mots + tokens spéciaux"
   ]
  },
  {
   "cell_type": "code",
   "execution_count": 10,
   "id": "8620bea6-52f3-4dcc-bd28-be5463b6271c",
   "metadata": {},
   "outputs": [],
   "source": [
    "import pickle\n",
    "\n",
    "# 🔝 Nombre de mots à conserver dans le vocab (hors tokens spéciaux)\n",
    "max_vocab_size = 4000\n",
    "\n",
    "# 📦 Tri des mots les plus fréquents\n",
    "most_common_words = sorted(word_freq.items(), key=lambda x: x[1], reverse=True)[:max_vocab_size]\n",
    "\n",
    "# 🔁 Construction du vocab avec tokens spéciaux\n",
    "special_tokens = [\"<pad>\", \"<start>\", \"<end>\", \"<unk>\"]\n",
    "word2idx = {token: idx for idx, token in enumerate(special_tokens)}\n",
    "\n",
    "for word, _ in most_common_words:\n",
    "    word2idx[word] = len(word2idx)\n"
   ]
  },
  {
   "cell_type": "markdown",
   "id": "a19ce5ed-f644-4c8d-929a-4c3516397224",
   "metadata": {},
   "source": [
    "#### 🤖 2. Créer l’objet Tokenizer"
   ]
  },
  {
   "cell_type": "code",
   "execution_count": 11,
   "id": "4224b20d-0d01-47da-8c4b-6a4ea4192e24",
   "metadata": {},
   "outputs": [
    {
     "name": "stdout",
     "output_type": "stream",
     "text": [
      "📝 Caption: a man in a red shirt is climbing a rock it's a man mange le fromage\n",
      "🔢 Encodée: [1, 4, 12, 5, 4, 26, 38, 8, 120, 4, 85, 3, 4, 12, 3, 3, 3, 2]\n",
      "🔤 Décodée: a man in a red shirt is climbing a rock <unk> a man <unk> <unk> <unk>\n"
     ]
    }
   ],
   "source": [
    "# 🧠 Création du tokenizer\n",
    "tokenizer = Tokenizer(word2idx)\n",
    "\n",
    "# 🔁 Exemple de test\n",
    "example_caption = \"A man in a red shirt is climbing a rock, it's a man mange le fromage !\"\n",
    "example_caption = clean_caption(example_caption)  # 🧼 Très important ici\n",
    "\n",
    "encoded = tokenizer.encode(example_caption)\n",
    "decoded = tokenizer.decode(encoded)\n",
    "\n",
    "print(\"📝 Caption:\", example_caption)\n",
    "print(\"🔢 Encodée:\", encoded)\n",
    "print(\"🔤 Décodée:\", decoded)\n"
   ]
  },
  {
   "cell_type": "markdown",
   "id": "053df749-557e-4bbd-8fd4-d0cba3cdeda7",
   "metadata": {},
   "source": [
    " ## 💾 Étape 6 : Sauvegarde du `Tokenizer`"
   ]
  },
  {
   "cell_type": "markdown",
   "id": "9aea6190-fb53-47ad-8190-607b1857fb81",
   "metadata": {},
   "source": [
    "### ✅ Objectif :\n",
    "- Enregistrer proprement le tokenizer (et pas juste un dict)\n",
    "\n",
    "- Le recharger facilement dans `train.py`, `evaluate.py`, etc."
   ]
  },
  {
   "cell_type": "code",
   "execution_count": 13,
   "id": "21983752-fa00-40d0-8310-6c797b7d5490",
   "metadata": {},
   "outputs": [
    {
     "name": "stdout",
     "output_type": "stream",
     "text": [
      "✅ Tokenizer sauvegardé sous forme d'objet complet.\n"
     ]
    }
   ],
   "source": [
    "# 💾 Sauvegarde du tokenizer dans ../data/vocab/tokenizer.pkl\n",
    "# 🧠 Création de l'objet tokenizer\n",
    "tokenizer = Tokenizer(word2idx)\n",
    "\n",
    "with open(\"../data/vocab/tokenizer.pkl\", \"wb\") as f:\n",
    "    pickle.dump(tokenizer.word2idx, f)\n",
    "\n",
    "print(\"✅ Tokenizer sauvegardé sous forme d'objet complet.\")"
   ]
  },
  {
   "cell_type": "markdown",
   "id": "1638a544-5b14-483f-932c-69709cba40c0",
   "metadata": {},
   "source": [
    "## 📊 Étape 7 : Histogramme des longueurs de captions encodées"
   ]
  },
  {
   "cell_type": "code",
   "execution_count": null,
   "id": "6174798a-3176-4c88-a3a3-0fb1e9c3e35d",
   "metadata": {},
   "outputs": [],
   "source": [
    "import numpy as np\n",
    "# 🧠 Longueurs avec tokens spéciaux\n",
    "all_lengths = []\n",
    "\n",
    "for captions in cleaned_captions_dict.values():\n",
    "    for caption in captions:\n",
    "        token_ids = tokenizer.encode(caption, add_special_tokens=True)\n",
    "        all_lengths.append(len(token_ids))\n",
    "\n",
    "# 📊 Visualisation\n",
    "import matplotlib.pyplot as plt\n",
    "\n",
    "plt.figure(figsize=(8, 4))\n",
    "plt.hist(all_lengths, bins=range(5, max(all_lengths)+2), color=\"lightcoral\", edgecolor=\"black\")\n",
    "plt.title(\"Distribution des longueurs de captions (avec <start> et <end>)\")\n",
    "plt.xlabel(\"Longueur (nb tokens)\")\n",
    "plt.ylabel(\"Nombre de captions\")\n",
    "plt.grid(True)\n",
    "plt.tight_layout()\n",
    "plt.show()\n",
    "\n",
    "print(f\"📏 Longueur moyenne : {sum(all_lengths) / len(all_lengths):.2f}\")\n",
    "print(f\"🔝 Max length : {max(all_lengths)}\")\n",
    "print(f\"📊 95e percentile : {int(np.percentile(all_lengths, 95))}\")\n"
   ]
  },
  {
   "cell_type": "markdown",
   "id": "91476439-13fa-4d75-90eb-ba564f6b0940",
   "metadata": {},
   "source": [
    "#### 🔍 À quoi ça sert ?\n",
    "| Info             | Utile pour...                   |\n",
    "| ---------------- | ------------------------------- |\n",
    "| Longueur moyenne | Estimer le padding moyen        |\n",
    "| Max              | Fixer la longueur max (ex: 30)  |\n",
    "| 95e percentile   | Éviter les extrêmes (cas rares) |\n"
   ]
  },
  {
   "cell_type": "markdown",
   "id": "06b1e0a3-7306-4bdc-bf5f-37d9c35b5ba0",
   "metadata": {},
   "source": [
    "## 🧩 Étape 8 – Vérification de la taille du vocabulaire tokenizer.pkl"
   ]
  },
  {
   "cell_type": "code",
   "execution_count": null,
   "id": "b656aad2-0e53-4925-a320-9e3e74ef9cf0",
   "metadata": {},
   "outputs": [],
   "source": [
    "import pickle\n",
    "\n",
    "# 🔁 Chargement du tokenizer\n",
    "with open(\"../data/vocab/tokenizer.pkl\", \"rb\") as f:\n",
    "    tokenizer = pickle.load(f)\n",
    "\n",
    "\n",
    "# 📏 Taille du vocab\n",
    "vocab_size = tokenizer.vocab_size\n",
    "print(f\"🧠 Taille du vocabulaire (word2idx) : {vocab_size} mots\")\n",
    "\n",
    "# 🔍 Affichage rapide des 10 premiers éléments\n",
    "for i, (word, idx) in enumerate(tokenizer.word2idx.items()):\n",
    "    print(f\"{word} → {idx}\")\n",
    "    if i == 9:\n",
    "        break\n"
   ]
  }
 ],
 "metadata": {
  "kernelspec": {
   "display_name": "venv",
   "language": "python",
   "name": "python3"
  },
  "language_info": {
   "codemirror_mode": {
    "name": "ipython",
    "version": 3
   },
   "file_extension": ".py",
   "mimetype": "text/x-python",
   "name": "python",
   "nbconvert_exporter": "python",
   "pygments_lexer": "ipython3",
   "version": "3.12.3"
  }
 },
 "nbformat": 4,
 "nbformat_minor": 5
}
