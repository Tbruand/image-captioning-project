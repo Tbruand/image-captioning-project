{
 "cells": [
  {
   "cell_type": "code",
   "execution_count": 21,
   "id": "88680f74",
   "metadata": {},
   "outputs": [],
   "source": [
    "import os\n",
    "import numpy as np\n",
    "from pathlib import Path\n",
    "from PIL import Image\n",
    "from tqdm import tqdm\n",
    "\n",
    "import torch\n",
    "import torchvision.models as models\n",
    "import torchvision.transforms as transforms"
   ]
  },
  {
   "cell_type": "code",
   "execution_count": 22,
   "id": "52296480",
   "metadata": {},
   "outputs": [],
   "source": [
    "# 📁 Dossiers\n",
    "image_folder = Path(\"../data/raw/Flicker8k_Dataset\")\n",
    "\n",
    "global_out = Path(\"../data/processed/features_resnet_global\")\n",
    "spatial_out = Path(\"../data/processed/features_resnet_spatial\")\n",
    "global_out.mkdir(parents=True, exist_ok=True)\n",
    "spatial_out.mkdir(parents=True, exist_ok=True)"
   ]
  },
  {
   "cell_type": "code",
   "execution_count": 23,
   "id": "8d6a9986",
   "metadata": {},
   "outputs": [],
   "source": [
    "# ⚙️ Device\n",
    "device = torch.device(\"cuda\" if torch.cuda.is_available() else \"cpu\")"
   ]
  },
  {
   "cell_type": "code",
   "execution_count": 24,
   "id": "c2e922ff",
   "metadata": {},
   "outputs": [],
   "source": [
    "# 📦 Modèle ResNet50 sans la dernière couche\n",
    "resnet = models.resnet50(weights=models.ResNet50_Weights.DEFAULT)\n",
    "resnet = torch.nn.Sequential(*list(resnet.children())[:-1])  # Enlever FC layer\n",
    "resnet = resnet.to(device).eval()"
   ]
  },
  {
   "cell_type": "code",
   "execution_count": 25,
   "id": "f350376b",
   "metadata": {},
   "outputs": [],
   "source": [
    "# 🔄 Transformations\n",
    "transform = transforms.Compose([\n",
    "    transforms.Resize((224, 224)),\n",
    "    transforms.ToTensor(),\n",
    "    transforms.Normalize(mean=[0.485, 0.456, 0.406],\n",
    "                         std=[0.229, 0.224, 0.225])\n",
    "])"
   ]
  },
  {
   "cell_type": "code",
   "execution_count": 26,
   "id": "0c548227",
   "metadata": {},
   "outputs": [],
   "source": [
    "# 🔍 Fonction d'extraction\n",
    "resnet_base = models.resnet50(weights=models.ResNet50_Weights.DEFAULT)\n",
    "resnet_global = torch.nn.Sequential(*list(resnet_base.children())[:-1]).to(device).eval()\n",
    "resnet_spatial = torch.nn.Sequential(*list(resnet_base.children())[:-2]).to(device).eval()\n",
    "\n",
    "def extract_features(image_path):\n",
    "    image = Image.open(image_path).convert(\"RGB\")\n",
    "    tensor = transform(image).unsqueeze(0).to(device)\n",
    "    \n",
    "    with torch.no_grad():\n",
    "        # 🔹 Global features (2048,)\n",
    "        global_feat = resnet_global(tensor).squeeze()  # shape (2048,)\n",
    "        \n",
    "        # 🔸 Spatial features (49, 2048)\n",
    "        spatial_feat = resnet_spatial(tensor)  # shape (1, 2048, 7, 7)\n",
    "        spatial_feat = spatial_feat.squeeze(0).permute(1, 2, 0).view(-1, 2048)  # (49, 2048)\n",
    "        \n",
    "    return global_feat.cpu().numpy(), spatial_feat.cpu().numpy()"
   ]
  },
  {
   "cell_type": "code",
   "execution_count": 27,
   "id": "e412adc4",
   "metadata": {},
   "outputs": [],
   "source": [
    "# 📸 Sous-échantillon (ex: 10 images)\n",
    "image_list = list(image_folder.glob(\"*.jpg\"))[:10]  # ← ici tu choisis combien"
   ]
  },
  {
   "cell_type": "code",
   "execution_count": 28,
   "id": "07e2d46d",
   "metadata": {},
   "outputs": [
    {
     "name": "stderr",
     "output_type": "stream",
     "text": [
      "🧠 Extraction (2 formats): 100%|██████████| 10/10 [00:00<00:00, 14.84it/s]\n"
     ]
    }
   ],
   "source": [
    "# 🚀 Boucle de traitement\n",
    "for img_path in tqdm(image_list, desc=\"🧠 Extraction (2 formats)\"):\n",
    "    image_id = img_path.stem\n",
    "    global_feat, spatial_feat = extract_features(img_path)\n",
    "    np.save(global_out / f\"{image_id}.npy\", global_feat)\n",
    "    np.save(spatial_out / f\"{image_id}.npy\", spatial_feat)"
   ]
  }
 ],
 "metadata": {
  "kernelspec": {
   "display_name": "venv",
   "language": "python",
   "name": "python3"
  },
  "language_info": {
   "codemirror_mode": {
    "name": "ipython",
    "version": 3
   },
   "file_extension": ".py",
   "mimetype": "text/x-python",
   "name": "python",
   "nbconvert_exporter": "python",
   "pygments_lexer": "ipython3",
   "version": "3.12.3"
  }
 },
 "nbformat": 4,
 "nbformat_minor": 5
}
