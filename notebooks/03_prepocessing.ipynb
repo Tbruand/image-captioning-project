{
 "cells": [
  {
   "cell_type": "markdown",
   "id": "c835d294",
   "metadata": {},
   "source": [
    "# 📓 Plan du notebook `02_preprocessing.ipynb`"
   ]
  },
  {
   "cell_type": "markdown",
   "id": "c1593c9d",
   "metadata": {},
   "source": [
    "| Étape | Titre de l'étape                                          | Objectif                                                                |\n",
    "| ----- | --------------------------------------------------------- | ----------------------------------------------------------------------- |\n",
    "| 1     | 🧪 Étape 1 – Redimensionnement & préparation des images   | Redimensionnement des images en 224x224 et stockage local               |\n",
    "| 2     | 📦 Étape 2 – Extraction des features CNN avec ResNet50    | Passage des images par ResNet50 (sans classification) → vecteurs 2048-d |\n",
    "| 3     | 🧩 Étape 3 – Chargement des features extraits (optionnel) | Visualisation de features d'une image pour vérif ou debug               |\n",
    "| 4     | ✅ Étape 4 – Validation des features extraits              | Vérifie la présence des fichiers `.pt` pour chaque image attendue       |\n",
    "| 5     | ✅ Étape 5 – Alignement features & captions                | Ne conserve que les captions ayant un fichier de features associé       |\n",
    "| 6     | 🧾 Étape 6 – Vérification finale du dataset aligné        | Sauvegarde d’un JSON `aligned_captions.json` + affichage d’un exemple   |\n"
   ]
  },
  {
   "cell_type": "markdown",
   "id": "a2f11866",
   "metadata": {},
   "source": [
    "## 🧪 Étape 1 – Redimensionnement & préparation des images"
   ]
  },
  {
   "cell_type": "code",
   "execution_count": 14,
   "id": "f30e3c0e",
   "metadata": {},
   "outputs": [
    {
     "name": "stdout",
     "output_type": "stream",
     "text": [
      "✅ Nombre total d’images (originales + augmentées) : 32364\n"
     ]
    }
   ],
   "source": [
    "# 📦 Imports\n",
    "import os\n",
    "from pathlib import Path\n",
    "from PIL import Image\n",
    "from tqdm import tqdm\n",
    "\n",
    "# 🔧 Configuration\n",
    "raw_images_dir = Path(\"../data/raw/Flicker8k_Dataset\")\n",
    "augmented_dir = Path(\"../data/processed/augmented_images\")\n",
    "all_images_dir = list(raw_images_dir.glob(\"*.jpg\")) + list(augmented_dir.glob(\"*.jpg\"))\n",
    "\n",
    "print(f\"✅ Nombre total d’images (originales + augmentées) : {len(all_images_dir)}\")\n"
   ]
  },
  {
   "cell_type": "markdown",
   "id": "271e72bd",
   "metadata": {},
   "source": [
    "#### 📌 Objectif :\n",
    "- Convertir toutes les images en `RGB`\n",
    "\n",
    "- Les redimensionner à la taille attendue par le backbone CNN\n",
    "\n",
    "- Les sauvegarder dans `data/processed/resized_images`\n",
    "\n",
    "- Souhaites-tu qu'on ajoute une visualisation de quelques exemples redimensionnés (`matplotlib`) avant de passer à l'étape 2 (extraction de features) ?"
   ]
  },
  {
   "cell_type": "markdown",
   "id": "7cfd3eb7",
   "metadata": {},
   "source": [
    "## 📦 Étape 2 – Extraction des features CNN avec ResNet50"
   ]
  },
  {
   "cell_type": "code",
   "execution_count": null,
   "id": "b0074494",
   "metadata": {},
   "outputs": [
    {
     "name": "stdout",
     "output_type": "stream",
     "text": [
      "Nombre total d'images (originales + augmentées) à traiter : 32364\n"
     ]
    },
    {
     "name": "stderr",
     "output_type": "stream",
     "text": [
      "c:\\Users\\thoma\\Desktop\\cnn_lstm\\venv\\lib\\site-packages\\torchvision\\models\\_utils.py:208: UserWarning: The parameter 'pretrained' is deprecated since 0.13 and may be removed in the future, please use 'weights' instead.\n",
      "  warnings.warn(\n",
      "c:\\Users\\thoma\\Desktop\\cnn_lstm\\venv\\lib\\site-packages\\torchvision\\models\\_utils.py:223: UserWarning: Arguments other than a weight enum or `None` for 'weights' are deprecated since 0.13 and may be removed in the future. The current behavior is equivalent to passing `weights=ResNet50_Weights.IMAGENET1K_V1`. You can also use `weights=ResNet50_Weights.DEFAULT` to get the most up-to-date weights.\n",
      "  warnings.warn(msg)\n",
      "🔍 Extraction des features: 100%|██████████| 32364/32364 [44:26<00:00, 12.14it/s] "
     ]
    },
    {
     "name": "stdout",
     "output_type": "stream",
     "text": [
      "✅ Extraction des features terminée.\n"
     ]
    },
    {
     "name": "stderr",
     "output_type": "stream",
     "text": [
      "\n"
     ]
    }
   ],
   "source": [
    "import torch\n",
    "from torchvision import models, transforms\n",
    "from PIL import Image\n",
    "from pathlib import Path\n",
    "from tqdm import tqdm\n",
    "\n",
    "# ⚙️ Device (GPU si dispo)\n",
    "device = torch.device(\"cuda\" if torch.cuda.is_available() else \"cpu\")\n",
    "\n",
    "# 📁 Dossiers\n",
    "raw_images_dir = Path(\"../data/raw/Flicker8k_Dataset\")\n",
    "augmented_dir = Path(\"../data/processed/augmented_images\")\n",
    "features_dir = Path(\"../data/processed/features_resnet_global\")\n",
    "features_dir.mkdir(parents=True, exist_ok=True)\n",
    "\n",
    "# 📋 Fusion des images originales et augmentées\n",
    "image_files = list(raw_images_dir.glob(\"*.jpg\")) + list(augmented_dir.glob(\"*.jpg\"))\n",
    "print(f\"Nombre total d'images (originales + augmentées) à traiter : {len(image_files)}\")\n",
    "\n",
    "# 🧪 Prétraitement (Resize déjà fait dans l'augmentation)\n",
    "preprocess = transforms.Compose([\n",
    "    transforms.ToTensor(),\n",
    "    transforms.Normalize(mean=[0.485, 0.456, 0.406],\n",
    "                         std=[0.229, 0.224, 0.225])\n",
    "])\n",
    "\n",
    "# 🧠 Modèle ResNet50 tronqué (on garde jusqu’au dernier avgpool)\n",
    "resnet = models.resnet50(pretrained=True)\n",
    "resnet = torch.nn.Sequential(*list(resnet.children())[:-1])\n",
    "resnet.eval().to(device)\n",
    "\n",
    "# 🔁 Boucle de traitement\n",
    "for img_path in tqdm(image_files, desc=\"🔍 Extraction des features\"):\n",
    "    image = Image.open(img_path).convert(\"RGB\")\n",
    "    input_tensor = preprocess(image).unsqueeze(0).to(device)\n",
    "\n",
    "    with torch.no_grad():\n",
    "        features = resnet(input_tensor)  # (1, 2048, 1, 1)\n",
    "        features = features.squeeze().cpu()  # (2048,)\n",
    "\n",
    "    # 💾 Sauvegarde avec le nom sans extension\n",
    "    out_path = features_dir / f\"{img_path.stem}.pt\"\n",
    "    torch.save(features, out_path)\n",
    "\n",
    "print(\"✅ Extraction des features terminée.\")\n"
   ]
  },
  {
   "cell_type": "markdown",
   "id": "93480c8c",
   "metadata": {},
   "source": [
    "## 🧩 Étape 3 – Chargement des features extraits (optionnel, vérif visuelle ou debug)"
   ]
  },
  {
   "cell_type": "markdown",
   "id": "52b229ed",
   "metadata": {},
   "source": [
    "Cette étape te permet de **vérifier rapidement** que les features `.pt` ont bien été extraits et stockés, et de charger quelques fichiers pour inspection."
   ]
  },
  {
   "cell_type": "code",
   "execution_count": 1,
   "id": "b943b5c9",
   "metadata": {},
   "outputs": [
    {
     "name": "stdout",
     "output_type": "stream",
     "text": [
      "✅ 32364 fichiers de features trouvés dans ..\\data\\processed\\features_resnet_global\n",
      "🔍 Features extraites pour : 1000268201_693b08cb0e.pt\n",
      "Shape des features : torch.Size([2048])\n"
     ]
    }
   ],
   "source": [
    "import torch\n",
    "from pathlib import Path\n",
    "\n",
    "# 📂 Dossier contenant les features extraites\n",
    "features_dir = Path(\"../data/processed/features_resnet_global\")\n",
    "feature_files = list(features_dir.glob(\"*.pt\"))\n",
    "\n",
    "print(f\"✅ {len(feature_files)} fichiers de features trouvés dans {features_dir}\")\n",
    "\n",
    "# 🧠 Exemple : chargement d’un fichier pour inspection\n",
    "example_path = feature_files[0]\n",
    "features = torch.load(example_path)\n",
    "\n",
    "print(f\"🔍 Features extraites pour : {example_path.name}\")\n",
    "print(\"Shape des features :\", features.shape)\n"
   ]
  },
  {
   "cell_type": "markdown",
   "id": "0e787c18",
   "metadata": {},
   "source": [
    "## ✅ Étape 4 – Validation des features extraits"
   ]
  },
  {
   "cell_type": "markdown",
   "id": "3d92ce53",
   "metadata": {},
   "source": [
    "### 🔍 Vérification des shapes"
   ]
  },
  {
   "cell_type": "code",
   "execution_count": 2,
   "id": "5477a22a",
   "metadata": {},
   "outputs": [
    {
     "name": "stdout",
     "output_type": "stream",
     "text": [
      "✅ Tous les fichiers de features sont valides (2048,)\n"
     ]
    }
   ],
   "source": [
    "from pathlib import Path\n",
    "import torch\n",
    "\n",
    "features_dir = Path(\"../data/processed/features_resnet_global\")\n",
    "feature_files = sorted(features_dir.glob(\"*.pt\"))\n",
    "\n",
    "invalid_files = []\n",
    "\n",
    "for path in feature_files:\n",
    "    try:\n",
    "        tensor = torch.load(path)\n",
    "        if tensor.shape != (2048,):\n",
    "            invalid_files.append((path.name, tensor.shape))\n",
    "    except Exception as e:\n",
    "        invalid_files.append((path.name, str(e)))\n",
    "\n",
    "if len(invalid_files) == 0:\n",
    "    print(\"✅ Tous les fichiers de features sont valides (2048,)\")\n",
    "else:\n",
    "    print(f\"❌ {len(invalid_files)} fichier(s) invalide(s) détecté(s) :\")\n",
    "    for name, shape in invalid_files[:5]:\n",
    "        print(f\"  - {name} → {shape}\")\n"
   ]
  },
  {
   "cell_type": "markdown",
   "id": "099f0748",
   "metadata": {},
   "source": [
    "### 4️⃣ Optionnel – Visualisation d’un vecteur de features pour une image"
   ]
  },
  {
   "cell_type": "code",
   "execution_count": 3,
   "id": "bb9c8bc5",
   "metadata": {},
   "outputs": [
    {
     "data": {
      "image/png": "[encoded data removed]",
      "text/plain": [
       "<Figure size 1000x300 with 1 Axes>"
      ]
     },
     "metadata": {},
     "output_type": "display_data"
    }
   ],
   "source": [
    "import matplotlib.pyplot as plt\n",
    "\n",
    "# 🔢 Chargement d’un vecteur aléatoire\n",
    "sample_path = feature_files[0]\n",
    "sample_tensor = torch.load(sample_path)\n",
    "\n",
    "plt.figure(figsize=(10, 3))\n",
    "plt.plot(sample_tensor.numpy())\n",
    "plt.title(f\"Vecteur de features pour {sample_path.name}\")\n",
    "plt.xlabel(\"Index\")\n",
    "plt.ylabel(\"Valeur\")\n",
    "plt.grid(True)\n",
    "plt.show()\n"
   ]
  },
  {
   "cell_type": "markdown",
   "id": "d04fbd22",
   "metadata": {},
   "source": [
    "### 5️⃣ Optionnel – Shape moyenne des features extraites"
   ]
  },
  {
   "cell_type": "code",
   "execution_count": 4,
   "id": "609f087c",
   "metadata": {},
   "outputs": [
    {
     "name": "stdout",
     "output_type": "stream",
     "text": [
      "📊 Répartition des shapes :\n",
      "  - torch.Size([2048]): 32364 fichiers\n",
      "✅ Tous les vecteurs ont la même forme attendue.\n"
     ]
    }
   ],
   "source": [
    "shapes = [torch.load(f).shape for f in feature_files]\n",
    "shape_counts = {}\n",
    "\n",
    "for shape in shapes:\n",
    "    shape_counts[shape] = shape_counts.get(shape, 0) + 1\n",
    "\n",
    "print(\"📊 Répartition des shapes :\")\n",
    "for shape, count in shape_counts.items():\n",
    "    print(f\"  - {shape}: {count} fichiers\")\n",
    "\n",
    "if len(shape_counts) == 1 and (2048,) in shape_counts:\n",
    "    print(\"✅ Tous les vecteurs ont la même forme attendue.\")\n",
    "else:\n",
    "    print(\"⚠️ Attention : certaines features ont des shapes différentes.\")\n"
   ]
  },
  {
   "cell_type": "markdown",
   "id": "0641876c",
   "metadata": {},
   "source": [
    "## ✅ Étape 5 – Alignement features & captions"
   ]
  },
  {
   "cell_type": "markdown",
   "id": "779ecab9",
   "metadata": {},
   "source": [
    "### 📌 Objectif :\n",
    "- Créer un dictionnaire propre : `{image_id: [captions]}`\n",
    "- Uniquement pour les images dont les *features .pt* ont bien été extraites."
   ]
  },
  {
   "cell_type": "code",
   "execution_count": 6,
   "id": "dc8b2130",
   "metadata": {},
   "outputs": [
    {
     "name": "stdout",
     "output_type": "stream",
     "text": [
      "✅ Captions valides pour 8091 images\n",
      "\n",
      "🧾 Exemple – 1000268201_693b08cb0e:\n",
      "  ➤ A child in a pink dress is climbing up a set of stairs in an entry way .\n",
      "  ➤ A girl going into a wooden building .\n",
      "  ➤ A little girl climbing into a wooden playhouse .\n",
      "  ➤ A little girl climbing the stairs to her playhouse .\n",
      "  ➤ A little girl in a pink dress going into a wooden cabin .\n"
     ]
    }
   ],
   "source": [
    "from collections import defaultdict\n",
    "import os\n",
    "from pathlib import Path\n",
    "\n",
    "# 📂 Fichier des captions\n",
    "captions_file = \"../data/raw/Flickr8k_text/Flickr8k.token.txt\"\n",
    "features_dir = Path(\"../data/processed/features_resnet_global\")\n",
    "\n",
    "# 📋 Liste des IDs de features extraites (avec ou sans augmentation)\n",
    "extracted_ids = {f.stem.split(\"_aug\")[0] for f in features_dir.glob(\"*.pt\")}\n",
    "\n",
    "# 📚 Dictionnaire pour stocker les captions valides\n",
    "aligned_captions = defaultdict(list)\n",
    "\n",
    "# 🔁 Lecture et filtrage des captions correspondant à des images existantes\n",
    "with open(captions_file, \"r\") as f:\n",
    "    for line in f:\n",
    "        try:\n",
    "            image_tag, caption = line.strip().split('\\t')\n",
    "            image_id = image_tag.split('#')[0].split('.')[0]\n",
    "            if image_id in extracted_ids:\n",
    "                aligned_captions[image_id].append(caption.strip())\n",
    "        except Exception as e:\n",
    "            print(f\"⛔ Problème avec la ligne : {line}\")\n",
    "\n",
    "# 🔍 Vérification rapide\n",
    "print(f\"✅ Captions valides pour {len(aligned_captions)} images\")\n",
    "\n",
    "example_id = next(iter(aligned_captions))\n",
    "print(f\"\\n🧾 Exemple – {example_id}:\")\n",
    "for c in aligned_captions[example_id]:\n",
    "    print(\"  ➤\", c)\n"
   ]
  },
  {
   "cell_type": "markdown",
   "id": "f609893d",
   "metadata": {},
   "source": [
    "### 💾 Optionnel : Sauvegarde en JSON"
   ]
  },
  {
   "cell_type": "code",
   "execution_count": 7,
   "id": "f3e7edcd",
   "metadata": {},
   "outputs": [
    {
     "name": "stdout",
     "output_type": "stream",
     "text": [
      "💾 Fichier `aligned_captions.json` sauvegardé avec indentation.\n"
     ]
    }
   ],
   "source": [
    "import json\n",
    "\n",
    "with open(\"../data/processed/aligned_captions.json\", \"w\") as f:\n",
    "    json.dump(aligned_captions, f, indent=2)\n",
    "\n",
    "print(\"💾 Fichier `aligned_captions.json` sauvegardé avec indentation.\")\n"
   ]
  },
  {
   "cell_type": "markdown",
   "id": "bc908b3a",
   "metadata": {},
   "source": [
    "## 🧾 Étape 6 – Vérification finale du dataset aligné"
   ]
  },
  {
   "cell_type": "markdown",
   "id": "e0303370",
   "metadata": {},
   "source": [
    "Avant de passer à l'étape de création du `Dataset` PyTorch, on vérifie simplement la cohérence du fichier `aligned_captions.json`."
   ]
  },
  {
   "cell_type": "code",
   "execution_count": 8,
   "id": "9a8d6e09",
   "metadata": {},
   "outputs": [
    {
     "name": "stdout",
     "output_type": "stream",
     "text": [
      "🔢 Nombre d'images alignées : 8091\n",
      "🖼️ Exemple : 1000268201_693b08cb0e\n",
      "  ➤ A child in a pink dress is climbing up a set of stairs in an entry way .\n",
      "  ➤ A girl going into a wooden building .\n",
      "  ➤ A little girl climbing into a wooden playhouse .\n",
      "  ➤ A little girl climbing the stairs to her playhouse .\n",
      "  ➤ A little girl in a pink dress going into a wooden cabin .\n"
     ]
    }
   ],
   "source": [
    "with open(\"../data/processed/aligned_captions.json\", \"r\") as f:\n",
    "    aligned = json.load(f)\n",
    "\n",
    "print(f\"🔢 Nombre d'images alignées : {len(aligned)}\")\n",
    "example_id = next(iter(aligned))\n",
    "print(f\"🖼️ Exemple : {example_id}\")\n",
    "for caption in aligned[example_id]:\n",
    "    print(\"  ➤\", caption)\n"
   ]
  }
 ],
 "metadata": {
  "kernelspec": {
   "display_name": "venv",
   "language": "python",
   "name": "python3"
  },
  "language_info": {
   "codemirror_mode": {
    "name": "ipython",
    "version": 3
   },
   "file_extension": ".py",
   "mimetype": "text/x-python",
   "name": "python",
   "nbconvert_exporter": "python",
   "pygments_lexer": "ipython3",
   "version": "3.10.9"
  }
 },
 "nbformat": 4,
 "nbformat_minor": 5
}
